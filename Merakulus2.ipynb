{
  "nbformat": 4,
  "nbformat_minor": 0,
  "metadata": {
    "colab": {
      "provenance": [],
      "authorship_tag": "ABX9TyOOLtqf9AmGZ9nUVTRzVKyL",
      "include_colab_link": true
    },
    "kernelspec": {
      "name": "python3",
      "display_name": "Python 3"
    },
    "language_info": {
      "name": "python"
    }
  },
  "cells": [
    {
      "cell_type": "markdown",
      "metadata": {
        "id": "view-in-github",
        "colab_type": "text"
      },
      "source": [
        "<a href=\"https://colab.research.google.com/github/sriharsha1718/Merakulus-Answers/blob/main/Merakulus2.ipynb\" target=\"_parent\"><img src=\"https://colab.research.google.com/assets/colab-badge.svg\" alt=\"Open In Colab\"/></a>"
      ]
    },
    {
      "cell_type": "code",
      "execution_count": 1,
      "metadata": {
        "id": "E-_xO8p-8Y0L"
      },
      "outputs": [],
      "source": [
        "def maximum_profit(prices):\n",
        "    if not prices:\n",
        "        return 0\n",
        "    min_price = prices[0]\n",
        "    max_profit = 0\n",
        "    for price in prices[1:]:\n",
        "        potential_profit = price - min_price\n",
        "        max_profit = max(max_profit, potential_profit)\n",
        "        min_price = min(min_price, price)\n",
        "\n",
        "    return max_profit"
      ]
    },
    {
      "cell_type": "code",
      "source": [
        "\n",
        "prices1 = [7, 1, 5, 3, 6, 4]\n",
        "print(maximum_profit(prices1))\n",
        "\n",
        "prices2 = [7, 6, 4, 3, 1]\n",
        "print(maximum_profit(prices2))"
      ],
      "metadata": {
        "colab": {
          "base_uri": "https://localhost:8080/"
        },
        "id": "sWSIiGNh8w-x",
        "outputId": "8c7887d2-f03e-4a09-e739-0a1a2f756ade"
      },
      "execution_count": 2,
      "outputs": [
        {
          "output_type": "stream",
          "name": "stdout",
          "text": [
            "5\n",
            "0\n"
          ]
        }
      ]
    }
  ]
}