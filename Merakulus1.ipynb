{
  "nbformat": 4,
  "nbformat_minor": 0,
  "metadata": {
    "colab": {
      "provenance": [],
      "authorship_tag": "ABX9TyMTdiI/qusZBaK66L/Mu0sr",
      "include_colab_link": true
    },
    "kernelspec": {
      "name": "python3",
      "display_name": "Python 3"
    },
    "language_info": {
      "name": "python"
    }
  },
  "cells": [
    {
      "cell_type": "markdown",
      "metadata": {
        "id": "view-in-github",
        "colab_type": "text"
      },
      "source": [
        "<a href=\"https://colab.research.google.com/github/sriharsha1718/Merakulus-Answers/blob/main/Merakulus1.ipynb\" target=\"_parent\"><img src=\"https://colab.research.google.com/assets/colab-badge.svg\" alt=\"Open In Colab\"/></a>"
      ]
    },
    {
      "cell_type": "code",
      "execution_count": 1,
      "metadata": {
        "id": "68FOsH1n6fvC"
      },
      "outputs": [],
      "source": [
        "class LRUCache:\n",
        "\n",
        "    class Node:\n",
        "        def __init__(self, key, value):\n",
        "            self.key = key\n",
        "            self.value = value\n",
        "            self.prev = None\n",
        "            self.next = None\n",
        "\n",
        "    def __init__(self, capacity: int):\n",
        "        self.capacity = capacity\n",
        "        self.cache = {}\n",
        "        self.head = self.Node(-1, -1)\n",
        "        self.tail = self.Node(-1, -1)\n",
        "        self.head.next = self.tail\n",
        "        self.tail.prev = self.head\n",
        "\n",
        "    def _move_to_front(self, node):\n",
        "        node.prev.next = node.next\n",
        "        node.next.prev = node.prev\n",
        "        node.next = self.head.next\n",
        "        node.prev = self.head\n",
        "        self.head.next.prev = node\n",
        "        self.head.next = node\n",
        "\n",
        "    def get(self, key: int) -> int:\n",
        "        if key in self.cache:\n",
        "            node = self.cache[key]\n",
        "            self._move_to_front(node)\n",
        "            return node.value\n",
        "        return -1\n",
        "\n",
        "    def put(self, key: int, value: int) -> None:\n",
        "        if key in self.cache:\n",
        "            node = self.cache[key]\n",
        "            node.value = value\n",
        "            self._move_to_front(node)\n",
        "        else:\n",
        "            if len(self.cache) == self.capacity:\n",
        "                lru_node = self.tail.prev\n",
        "                del self.cache[lru_node.key]\n",
        "                self.tail.prev = lru_node.prev\n",
        "                lru_node.prev.next = self.tail\n",
        "\n",
        "            new_node = self.Node(key, value)\n",
        "            self.cache[key] = new_node\n",
        "            new_node.next = self.head.next\n",
        "            new_node.prev = self.head\n",
        "            self.head.next.prev = new_node\n",
        "            self.head.next = new_node"
      ]
    },
    {
      "cell_type": "code",
      "source": [
        "cache = LRUCache(2)\n",
        "print(cache.get(1))\n",
        "cache.put(1, 1)\n",
        "cache.put(2, 2)\n",
        "print(cache.get(1))\n",
        "cache.put(3, 3)\n",
        "print(cache.get(2))\n",
        "cache.put(4, 4)\n",
        "print(cache.get(1))\n",
        "print(cache.get(3))\n",
        "print(cache.get(4))"
      ],
      "metadata": {
        "colab": {
          "base_uri": "https://localhost:8080/"
        },
        "id": "ETrp_oci7hCy",
        "outputId": "50f1e1c7-7a25-4f33-88b7-71b3a2976f28"
      },
      "execution_count": 2,
      "outputs": [
        {
          "output_type": "stream",
          "name": "stdout",
          "text": [
            "-1\n",
            "1\n",
            "-1\n",
            "-1\n",
            "3\n",
            "4\n"
          ]
        }
      ]
    }
  ]
}